{
 "cells": [
  {
   "cell_type": "markdown",
   "metadata": {
    "collapsed": true
   },
   "source": [
    "# Language Translation\n",
    "In this project, you’re going to take a peek into the realm of neural network machine translation.  You’ll be training a sequence to sequence model on a dataset of English and French sentences that can translate new sentences from English to French.\n",
    "## Get the Data\n",
    "Since translating the whole language of English to French will take lots of time to train, we have provided you with a small portion of the English corpus."
   ]
  },
  {
   "cell_type": "code",
   "execution_count": 1,
   "metadata": {
    "collapsed": true
   },
   "outputs": [],
   "source": [
    "\"\"\"\n",
    "DON'T MODIFY ANYTHING IN THIS CELL\n",
    "\"\"\"\n",
    "import helper\n",
    "import problem_unittests as tests\n",
    "\n",
    "source_path = 'data/small_vocab_en'\n",
    "target_path = 'data/small_vocab_fr'\n",
    "source_text = helper.load_data(source_path)\n",
    "target_text = helper.load_data(target_path)"
   ]
  },
  {
   "cell_type": "markdown",
   "metadata": {},
   "source": [
    "## Explore the Data\n",
    "Play around with view_sentence_range to view different parts of the data."
   ]
  },
  {
   "cell_type": "code",
   "execution_count": 2,
   "metadata": {},
   "outputs": [
    {
     "name": "stdout",
     "output_type": "stream",
     "text": [
      "Dataset Stats\n",
      "Roughly the number of unique words: 227\n",
      "Number of sentences: 137861\n",
      "Average number of words in a sentence: 13.225277634719028\n",
      "\n",
      "English sentences 0 to 10:\n",
      "new jersey is sometimes quiet during autumn , and it is snowy in april .\n",
      "the united states is usually chilly during july , and it is usually freezing in november .\n",
      "california is usually quiet during march , and it is usually hot in june .\n",
      "the united states is sometimes mild during june , and it is cold in september .\n",
      "your least liked fruit is the grape , but my least liked is the apple .\n",
      "his favorite fruit is the orange , but my favorite is the grape .\n",
      "paris is relaxing during december , but it is usually chilly in july .\n",
      "new jersey is busy during spring , and it is never hot in march .\n",
      "our least liked fruit is the lemon , but my least liked is the grape .\n",
      "the united states is sometimes busy during january , and it is sometimes warm in november .\n",
      "\n",
      "French sentences 0 to 10:\n",
      "new jersey est parfois calme pendant l' automne , et il est neigeux en avril .\n",
      "les états-unis est généralement froid en juillet , et il gèle habituellement en novembre .\n",
      "california est généralement calme en mars , et il est généralement chaud en juin .\n",
      "les états-unis est parfois légère en juin , et il fait froid en septembre .\n",
      "votre moins aimé fruit est le raisin , mais mon moins aimé est la pomme .\n",
      "son fruit préféré est l'orange , mais mon préféré est le raisin .\n",
      "paris est relaxant en décembre , mais il est généralement froid en juillet .\n",
      "new jersey est occupé au printemps , et il est jamais chaude en mars .\n",
      "notre fruit est moins aimé le citron , mais mon moins aimé est le raisin .\n",
      "les états-unis est parfois occupé en janvier , et il est parfois chaud en novembre .\n"
     ]
    }
   ],
   "source": [
    "view_sentence_range = (0, 10)\n",
    "\n",
    "\"\"\"\n",
    "DON'T MODIFY ANYTHING IN THIS CELL\n",
    "\"\"\"\n",
    "import numpy as np\n",
    "\n",
    "print('Dataset Stats')\n",
    "print('Roughly the number of unique words: {}'.format(len({word: None for word in source_text.split()})))\n",
    "\n",
    "sentences = source_text.split('\\n')\n",
    "word_counts = [len(sentence.split()) for sentence in sentences]\n",
    "print('Number of sentences: {}'.format(len(sentences)))\n",
    "print('Average number of words in a sentence: {}'.format(np.average(word_counts)))\n",
    "\n",
    "print()\n",
    "print('English sentences {} to {}:'.format(*view_sentence_range))\n",
    "print('\\n'.join(source_text.split('\\n')[view_sentence_range[0]:view_sentence_range[1]]))\n",
    "print()\n",
    "print('French sentences {} to {}:'.format(*view_sentence_range))\n",
    "print('\\n'.join(target_text.split('\\n')[view_sentence_range[0]:view_sentence_range[1]]))"
   ]
  },
  {
   "cell_type": "markdown",
   "metadata": {},
   "source": [
    "## Implement Preprocessing Function\n",
    "### Text to Word Ids\n",
    "As you did with other RNNs, you must turn the text into a number so the computer can understand it. In the function `text_to_ids()`, you'll turn `source_text` and `target_text` from words to ids.  However, you need to add the `<EOS>` word id at the end of `target_text`.  This will help the neural network predict when the sentence should end.\n",
    "\n",
    "You can get the `<EOS>` word id by doing:\n",
    "```python\n",
    "target_vocab_to_int['<EOS>']\n",
    "```\n",
    "You can get other word ids using `source_vocab_to_int` and `target_vocab_to_int`."
   ]
  },
  {
   "cell_type": "code",
   "execution_count": 3,
   "metadata": {},
   "outputs": [
    {
     "name": "stdout",
     "output_type": "stream",
     "text": [
      "Tests Passed\n"
     ]
    }
   ],
   "source": [
    "def text_to_ids(source_text, target_text, source_vocab_to_int, target_vocab_to_int):\n",
    "    \"\"\"\n",
    "    Convert source and target text to proper word ids\n",
    "    :param source_text: String that contains all the source text.\n",
    "    :param target_text: String that contains all the target text.\n",
    "    :param source_vocab_to_int: Dictionary to go from the source words to an id\n",
    "    :param target_vocab_to_int: Dictionary to go from the target words to an id\n",
    "    :return: A tuple of lists (source_id_text, target_id_text)\n",
    "    \"\"\"\n",
    "    # TODO: Implement Function\n",
    "    source_id_text = [[source_vocab_to_int.get(word, source_vocab_to_int['<UNK>']) for word in line.split(' ')]\n",
    "                       for line in source_text.split('\\n')]\n",
    "                     \n",
    "    target_id_text = [[target_vocab_to_int.get(word, target_vocab_to_int['<UNK>']) for word in line.split(' ')]\n",
    "                     + [target_vocab_to_int['<EOS>']] for line in target_text.split('\\n')]\n",
    "    \n",
    "    return source_id_text, target_id_text\n",
    "\n",
    "\"\"\"\n",
    "DON'T MODIFY ANYTHING IN THIS CELL THAT IS BELOW THIS LINE\n",
    "\"\"\"\n",
    "tests.test_text_to_ids(text_to_ids)"
   ]
  },
  {
   "cell_type": "markdown",
   "metadata": {},
   "source": [
    "### Preprocess all the data and save it\n",
    "Running the code cell below will preprocess all the data and save it to file."
   ]
  },
  {
   "cell_type": "code",
   "execution_count": 4,
   "metadata": {
    "collapsed": true
   },
   "outputs": [],
   "source": [
    "\"\"\"\n",
    "DON'T MODIFY ANYTHING IN THIS CELL\n",
    "\"\"\"\n",
    "helper.preprocess_and_save_data(source_path, target_path, text_to_ids)"
   ]
  },
  {
   "cell_type": "markdown",
   "metadata": {},
   "source": [
    "# Check Point\n",
    "This is your first checkpoint. If you ever decide to come back to this notebook or have to restart the notebook, you can start from here. The preprocessed data has been saved to disk."
   ]
  },
  {
   "cell_type": "code",
   "execution_count": 5,
   "metadata": {
    "collapsed": true
   },
   "outputs": [],
   "source": [
    "\"\"\"\n",
    "DON'T MODIFY ANYTHING IN THIS CELL\n",
    "\"\"\"\n",
    "import numpy as np\n",
    "import helper\n",
    "import problem_unittests as tests\n",
    "\n",
    "(source_int_text, target_int_text), (source_vocab_to_int, target_vocab_to_int), _ = helper.load_preprocess()\n"
   ]
  },
  {
   "cell_type": "markdown",
   "metadata": {},
   "source": [
    "### Check the Version of TensorFlow and Access to GPU\n",
    "This will check to make sure you have the correct version of TensorFlow and access to a GPU"
   ]
  },
  {
   "cell_type": "code",
   "execution_count": 6,
   "metadata": {},
   "outputs": [
    {
     "name": "stdout",
     "output_type": "stream",
     "text": [
      "TensorFlow Version: 1.3.0\n"
     ]
    },
    {
     "name": "stderr",
     "output_type": "stream",
     "text": [
      "/Users/thaophung/anaconda/lib/python3.6/site-packages/ipykernel_launcher.py:15: UserWarning: No GPU found. Please use a GPU to train your neural network.\n",
      "  from ipykernel import kernelapp as app\n"
     ]
    }
   ],
   "source": [
    "\"\"\"\n",
    "DON'T MODIFY ANYTHING IN THIS CELL\n",
    "\"\"\"\n",
    "from distutils.version import LooseVersion\n",
    "import warnings\n",
    "import tensorflow as tf\n",
    "from tensorflow.python.layers.core import Dense\n",
    "\n",
    "# Check TensorFlow Version\n",
    "assert LooseVersion(tf.__version__) >= LooseVersion('1.1'), 'Please use TensorFlow version 1.1 or newer'\n",
    "print('TensorFlow Version: {}'.format(tf.__version__))\n",
    "\n",
    "# Check for a GPU\n",
    "if not tf.test.gpu_device_name():\n",
    "    warnings.warn('No GPU found. Please use a GPU to train your neural network.')\n",
    "else:\n",
    "    print('Default GPU Device: {}'.format(tf.test.gpu_device_name()))"
   ]
  },
  {
   "cell_type": "markdown",
   "metadata": {},
   "source": [
    "## Build the Neural Network\n",
    "You'll build the components necessary to build a Sequence-to-Sequence model by implementing the following functions below:\n",
    "- `model_inputs`\n",
    "- `process_decoder_input`\n",
    "- `encoding_layer`\n",
    "- `decoding_layer_train`\n",
    "- `decoding_layer_infer`\n",
    "- `decoding_layer`\n",
    "- `seq2seq_model`\n",
    "\n",
    "### Input\n",
    "Implement the `model_inputs()` function to create TF Placeholders for the Neural Network. It should create the following placeholders:\n",
    "\n",
    "- Input text placeholder named \"input\" using the TF Placeholder name parameter with rank 2.\n",
    "- Targets placeholder with rank 2.\n",
    "- Learning rate placeholder with rank 0.\n",
    "- Keep probability placeholder named \"keep_prob\" using the TF Placeholder name parameter with rank 0.\n",
    "- Target sequence length placeholder named \"target_sequence_length\" with rank 1\n",
    "- Max target sequence length tensor named \"max_target_len\" getting its value from applying tf.reduce_max on the target_sequence_length placeholder. Rank 0.\n",
    "- Source sequence length placeholder named \"source_sequence_length\" with rank 1\n",
    "\n",
    "Return the placeholders in the following the tuple (input, targets, learning rate, keep probability, target sequence length, max target sequence length, source sequence length)"
   ]
  },
  {
   "cell_type": "code",
   "execution_count": 7,
   "metadata": {},
   "outputs": [
    {
     "name": "stdout",
     "output_type": "stream",
     "text": [
      "ERROR:tensorflow:==================================\n",
      "Object was never used (type <class 'tensorflow.python.framework.ops.Operation'>):\n",
      "<tf.Operation 'assert_rank_2/Assert/Assert' type=Assert>\n",
      "If you want to mark it as used call its \"mark_used()\" method.\n",
      "It was originally created here:\n",
      "['File \"/Users/thaophung/anaconda/lib/python3.6/runpy.py\", line 193, in _run_module_as_main\\n    \"__main__\", mod_spec)', 'File \"/Users/thaophung/anaconda/lib/python3.6/runpy.py\", line 85, in _run_code\\n    exec(code, run_globals)', 'File \"/Users/thaophung/anaconda/lib/python3.6/site-packages/ipykernel_launcher.py\", line 16, in <module>\\n    app.launch_new_instance()', 'File \"/Users/thaophung/anaconda/lib/python3.6/site-packages/traitlets/config/application.py\", line 658, in launch_instance\\n    app.start()', 'File \"/Users/thaophung/anaconda/lib/python3.6/site-packages/ipykernel/kernelapp.py\", line 477, in start\\n    ioloop.IOLoop.instance().start()', 'File \"/Users/thaophung/anaconda/lib/python3.6/site-packages/zmq/eventloop/ioloop.py\", line 177, in start\\n    super(ZMQIOLoop, self).start()', 'File \"/Users/thaophung/anaconda/lib/python3.6/site-packages/tornado/ioloop.py\", line 888, in start\\n    handler_func(fd_obj, events)', 'File \"/Users/thaophung/anaconda/lib/python3.6/site-packages/tornado/stack_context.py\", line 277, in null_wrapper\\n    return fn(*args, **kwargs)', 'File \"/Users/thaophung/anaconda/lib/python3.6/site-packages/zmq/eventloop/zmqstream.py\", line 440, in _handle_events\\n    self._handle_recv()', 'File \"/Users/thaophung/anaconda/lib/python3.6/site-packages/zmq/eventloop/zmqstream.py\", line 472, in _handle_recv\\n    self._run_callback(callback, msg)', 'File \"/Users/thaophung/anaconda/lib/python3.6/site-packages/zmq/eventloop/zmqstream.py\", line 414, in _run_callback\\n    callback(*args, **kwargs)', 'File \"/Users/thaophung/anaconda/lib/python3.6/site-packages/tornado/stack_context.py\", line 277, in null_wrapper\\n    return fn(*args, **kwargs)', 'File \"/Users/thaophung/anaconda/lib/python3.6/site-packages/ipykernel/kernelbase.py\", line 283, in dispatcher\\n    return self.dispatch_shell(stream, msg)', 'File \"/Users/thaophung/anaconda/lib/python3.6/site-packages/ipykernel/kernelbase.py\", line 235, in dispatch_shell\\n    handler(stream, idents, msg)', 'File \"/Users/thaophung/anaconda/lib/python3.6/site-packages/ipykernel/kernelbase.py\", line 399, in execute_request\\n    user_expressions, allow_stdin)', 'File \"/Users/thaophung/anaconda/lib/python3.6/site-packages/ipykernel/ipkernel.py\", line 196, in do_execute\\n    res = shell.run_cell(code, store_history=store_history, silent=silent)', 'File \"/Users/thaophung/anaconda/lib/python3.6/site-packages/ipykernel/zmqshell.py\", line 533, in run_cell\\n    return super(ZMQInteractiveShell, self).run_cell(*args, **kwargs)', 'File \"/Users/thaophung/anaconda/lib/python3.6/site-packages/IPython/core/interactiveshell.py\", line 2717, in run_cell\\n    interactivity=interactivity, compiler=compiler, result=result)', 'File \"/Users/thaophung/anaconda/lib/python3.6/site-packages/IPython/core/interactiveshell.py\", line 2827, in run_ast_nodes\\n    if self.run_code(code, result):', 'File \"/Users/thaophung/anaconda/lib/python3.6/site-packages/IPython/core/interactiveshell.py\", line 2881, in run_code\\n    exec(code_obj, self.user_global_ns, self.user_ns)', 'File \"<ipython-input-7-3c3013f33cc5>\", line 22, in <module>\\n    tests.test_model_inputs(model_inputs)', 'File \"/Users/thaophung/deep-learning/language-translation/problem_unittests.py\", line 106, in test_model_inputs\\n    assert tf.assert_rank(lr, 0, message=\\'Learning Rate has wrong rank\\')', 'File \"/Users/thaophung/anaconda/lib/python3.6/site-packages/tensorflow/python/ops/check_ops.py\", line 617, in assert_rank\\n    dynamic_condition, data, summarize)', 'File \"/Users/thaophung/anaconda/lib/python3.6/site-packages/tensorflow/python/ops/check_ops.py\", line 571, in _assert_rank_condition\\n    return control_flow_ops.Assert(condition, data, summarize=summarize)', 'File \"/Users/thaophung/anaconda/lib/python3.6/site-packages/tensorflow/python/util/tf_should_use.py\", line 175, in wrapped\\n    return _add_should_use_warning(fn(*args, **kwargs))', 'File \"/Users/thaophung/anaconda/lib/python3.6/site-packages/tensorflow/python/util/tf_should_use.py\", line 144, in _add_should_use_warning\\n    wrapped = TFShouldUseWarningWrapper(x)', 'File \"/Users/thaophung/anaconda/lib/python3.6/site-packages/tensorflow/python/util/tf_should_use.py\", line 101, in __init__\\n    stack = [s.strip() for s in traceback.format_stack()]']\n",
      "==================================\n",
      "ERROR:tensorflow:==================================\n",
      "Object was never used (type <class 'tensorflow.python.framework.ops.Operation'>):\n",
      "<tf.Operation 'assert_rank_3/Assert/Assert' type=Assert>\n",
      "If you want to mark it as used call its \"mark_used()\" method.\n",
      "It was originally created here:\n",
      "['File \"/Users/thaophung/anaconda/lib/python3.6/runpy.py\", line 193, in _run_module_as_main\\n    \"__main__\", mod_spec)', 'File \"/Users/thaophung/anaconda/lib/python3.6/runpy.py\", line 85, in _run_code\\n    exec(code, run_globals)', 'File \"/Users/thaophung/anaconda/lib/python3.6/site-packages/ipykernel_launcher.py\", line 16, in <module>\\n    app.launch_new_instance()', 'File \"/Users/thaophung/anaconda/lib/python3.6/site-packages/traitlets/config/application.py\", line 658, in launch_instance\\n    app.start()', 'File \"/Users/thaophung/anaconda/lib/python3.6/site-packages/ipykernel/kernelapp.py\", line 477, in start\\n    ioloop.IOLoop.instance().start()', 'File \"/Users/thaophung/anaconda/lib/python3.6/site-packages/zmq/eventloop/ioloop.py\", line 177, in start\\n    super(ZMQIOLoop, self).start()', 'File \"/Users/thaophung/anaconda/lib/python3.6/site-packages/tornado/ioloop.py\", line 888, in start\\n    handler_func(fd_obj, events)', 'File \"/Users/thaophung/anaconda/lib/python3.6/site-packages/tornado/stack_context.py\", line 277, in null_wrapper\\n    return fn(*args, **kwargs)', 'File \"/Users/thaophung/anaconda/lib/python3.6/site-packages/zmq/eventloop/zmqstream.py\", line 440, in _handle_events\\n    self._handle_recv()', 'File \"/Users/thaophung/anaconda/lib/python3.6/site-packages/zmq/eventloop/zmqstream.py\", line 472, in _handle_recv\\n    self._run_callback(callback, msg)', 'File \"/Users/thaophung/anaconda/lib/python3.6/site-packages/zmq/eventloop/zmqstream.py\", line 414, in _run_callback\\n    callback(*args, **kwargs)', 'File \"/Users/thaophung/anaconda/lib/python3.6/site-packages/tornado/stack_context.py\", line 277, in null_wrapper\\n    return fn(*args, **kwargs)', 'File \"/Users/thaophung/anaconda/lib/python3.6/site-packages/ipykernel/kernelbase.py\", line 283, in dispatcher\\n    return self.dispatch_shell(stream, msg)', 'File \"/Users/thaophung/anaconda/lib/python3.6/site-packages/ipykernel/kernelbase.py\", line 235, in dispatch_shell\\n    handler(stream, idents, msg)', 'File \"/Users/thaophung/anaconda/lib/python3.6/site-packages/ipykernel/kernelbase.py\", line 399, in execute_request\\n    user_expressions, allow_stdin)', 'File \"/Users/thaophung/anaconda/lib/python3.6/site-packages/ipykernel/ipkernel.py\", line 196, in do_execute\\n    res = shell.run_cell(code, store_history=store_history, silent=silent)', 'File \"/Users/thaophung/anaconda/lib/python3.6/site-packages/ipykernel/zmqshell.py\", line 533, in run_cell\\n    return super(ZMQInteractiveShell, self).run_cell(*args, **kwargs)', 'File \"/Users/thaophung/anaconda/lib/python3.6/site-packages/IPython/core/interactiveshell.py\", line 2717, in run_cell\\n    interactivity=interactivity, compiler=compiler, result=result)', 'File \"/Users/thaophung/anaconda/lib/python3.6/site-packages/IPython/core/interactiveshell.py\", line 2827, in run_ast_nodes\\n    if self.run_code(code, result):', 'File \"/Users/thaophung/anaconda/lib/python3.6/site-packages/IPython/core/interactiveshell.py\", line 2881, in run_code\\n    exec(code_obj, self.user_global_ns, self.user_ns)', 'File \"<ipython-input-7-3c3013f33cc5>\", line 22, in <module>\\n    tests.test_model_inputs(model_inputs)', 'File \"/Users/thaophung/deep-learning/language-translation/problem_unittests.py\", line 107, in test_model_inputs\\n    assert tf.assert_rank(keep_prob, 0, message=\\'Keep Probability has wrong rank\\')', 'File \"/Users/thaophung/anaconda/lib/python3.6/site-packages/tensorflow/python/ops/check_ops.py\", line 617, in assert_rank\\n    dynamic_condition, data, summarize)', 'File \"/Users/thaophung/anaconda/lib/python3.6/site-packages/tensorflow/python/ops/check_ops.py\", line 571, in _assert_rank_condition\\n    return control_flow_ops.Assert(condition, data, summarize=summarize)', 'File \"/Users/thaophung/anaconda/lib/python3.6/site-packages/tensorflow/python/util/tf_should_use.py\", line 175, in wrapped\\n    return _add_should_use_warning(fn(*args, **kwargs))', 'File \"/Users/thaophung/anaconda/lib/python3.6/site-packages/tensorflow/python/util/tf_should_use.py\", line 144, in _add_should_use_warning\\n    wrapped = TFShouldUseWarningWrapper(x)', 'File \"/Users/thaophung/anaconda/lib/python3.6/site-packages/tensorflow/python/util/tf_should_use.py\", line 101, in __init__\\n    stack = [s.strip() for s in traceback.format_stack()]']\n",
      "==================================\n"
     ]
    },
    {
     "name": "stdout",
     "output_type": "stream",
     "text": [
      "Tests Passed\n"
     ]
    }
   ],
   "source": [
    "def model_inputs():\n",
    "    \"\"\"\n",
    "    Create TF Placeholders for input, targets, learning rate, and lengths of source and target sequences.\n",
    "    :return: Tuple (input, targets, learning rate, keep probability, target sequence length,\n",
    "    max target sequence length, source sequence length)\n",
    "    \"\"\"\n",
    "    # TODO: Implement Function\n",
    "    input_data = tf.placeholder(tf.int32, [None, None], name='input')\n",
    "    targets = tf.placeholder(tf.int32, [None, None], name='targets')\n",
    "    learning_rate = tf.placeholder(tf.float32, name='learning_rate')\n",
    "    keep_prob = tf.placeholder(tf.float32, name='keep_prob')\n",
    "    target_sequence_length = tf.placeholder(tf.int32, (None,), name='target_sequence_length')\n",
    "    max_target_sequence_length = tf.reduce_max(target_sequence_length,name='max_target_len')\n",
    "    source_sequence_length = tf.placeholder(tf.int32, (None,), name='source_sequence_length')\n",
    "    \n",
    "    return input_data, targets, learning_rate, keep_prob, target_sequence_length, max_target_sequence_length, source_sequence_length\n",
    "\n",
    "\n",
    "\"\"\"\n",
    "DON'T MODIFY ANYTHING IN THIS CELL THAT IS BELOW THIS LINE\n",
    "\"\"\"\n",
    "tests.test_model_inputs(model_inputs)"
   ]
  },
  {
   "cell_type": "markdown",
   "metadata": {},
   "source": [
    "### Process Decoder Input\n",
    "Implement `process_decoder_input` by removing the last word id from each batch in `target_data` and concat the GO ID to the begining of each batch."
   ]
  },
  {
   "cell_type": "code",
   "execution_count": 8,
   "metadata": {},
   "outputs": [
    {
     "name": "stdout",
     "output_type": "stream",
     "text": [
      "Tests Passed\n"
     ]
    }
   ],
   "source": [
    "def process_decoder_input(target_data, target_vocab_to_int, batch_size):\n",
    "    \"\"\"\n",
    "    Preprocess target data for encoding\n",
    "    :param target_data: Target Placehoder\n",
    "    :param target_vocab_to_int: Dictionary to go from the target words to an id\n",
    "    :param batch_size: Batch Size\n",
    "    :return: Preprocessed target data\n",
    "    \"\"\"\n",
    "    \n",
    "    # TODO: Implement Function\n",
    "    ending = tf.strided_slice(target_data, [0,0], [batch_size,-1], [1,1])\n",
    "    dec_input = tf.concat([tf.fill([batch_size,1], target_vocab_to_int['<GO>']), ending],1)\n",
    "    \n",
    "    return dec_input\n",
    "\n",
    "\"\"\"\n",
    "DON'T MODIFY ANYTHING IN THIS CELL THAT IS BELOW THIS LINE\n",
    "\"\"\"\n",
    "tests.test_process_encoding_input(process_decoder_input)"
   ]
  },
  {
   "cell_type": "markdown",
   "metadata": {},
   "source": [
    "### Encoding\n",
    "Implement `encoding_layer()` to create a Encoder RNN layer:\n",
    " * Embed the encoder input using [`tf.contrib.layers.embed_sequence`](https://www.tensorflow.org/api_docs/python/tf/contrib/layers/embed_sequence)\n",
    " * Construct a [stacked](https://github.com/tensorflow/tensorflow/blob/6947f65a374ebf29e74bb71e36fd82760056d82c/tensorflow/docs_src/tutorials/recurrent.md#stacking-multiple-lstms) [`tf.contrib.rnn.LSTMCell`](https://www.tensorflow.org/api_docs/python/tf/contrib/rnn/LSTMCell) wrapped in a [`tf.contrib.rnn.DropoutWrapper`](https://www.tensorflow.org/api_docs/python/tf/contrib/rnn/DropoutWrapper)\n",
    " * Pass cell and embedded input to [`tf.nn.dynamic_rnn()`](https://www.tensorflow.org/api_docs/python/tf/nn/dynamic_rnn)"
   ]
  },
  {
   "cell_type": "code",
   "execution_count": 9,
   "metadata": {
    "scrolled": false
   },
   "outputs": [
    {
     "name": "stdout",
     "output_type": "stream",
     "text": [
      "Tests Passed\n"
     ]
    }
   ],
   "source": [
    "\n",
    "def encoding_layer(rnn_inputs, rnn_size, num_layers, keep_prob, \n",
    "                   source_sequence_length, source_vocab_size, \n",
    "                   encoding_embedding_size):\n",
    "    \"\"\"\n",
    "    Create encoding layer\n",
    "    :param rnn_inputs: Inputs for the RNN\n",
    "    :param rnn_size: RNN Size\n",
    "    :param num_layers: Number of layers\n",
    "    :param keep_prob: Dropout keep probability\n",
    "    :param source_sequence_length: a list of the lengths of each sequence in the batch\n",
    "    :param source_vocab_size: vocabulary size of source data\n",
    "    :param encoding_embedding_size: embedding size of source data\n",
    "    :return: tuple (RNN output, RNN state)\n",
    "    \"\"\"\n",
    "    # TODO: Implement Function\n",
    "    enc_embed_input = tf.contrib.layers.embed_sequence(rnn_inputs, source_vocab_size, encoding_embedding_size)\n",
    "    #RNN cell\n",
    "    def make_cell(rnn_size):\n",
    "        enc_cell = tf.contrib.rnn.LSTMCell(rnn_size,\n",
    "                                          initializer=tf.random_uniform_initializer(-0.1,0.1,seed=2))\n",
    "        enc_cell_drop = tf.contrib.rnn.DropoutWrapper(enc_cell, output_keep_prob=keep_prob)\n",
    "        return enc_cell\n",
    "    \n",
    "                                    \n",
    "    enc_cell = tf.contrib.rnn.MultiRNNCell([make_cell(rnn_size) for _ in range(num_layers)])\n",
    "  \n",
    "    enc_output, enc_state = tf.nn.dynamic_rnn(enc_cell, enc_embed_input, \n",
    "                                             sequence_length=source_sequence_length,\n",
    "                                             dtype=tf.float32)\n",
    "    \n",
    "    return enc_cell, enc_state\n",
    "\n",
    "\"\"\"\n",
    "DON'T MODIFY ANYTHING IN THIS CELL THAT IS BELOW THIS LINE\n",
    "\"\"\"\n",
    "tests.test_encoding_layer(encoding_layer)"
   ]
  },
  {
   "cell_type": "markdown",
   "metadata": {},
   "source": [
    "### Decoding - Training\n",
    "Create a training decoding layer:\n",
    "* Create a [`tf.contrib.seq2seq.TrainingHelper`](https://www.tensorflow.org/api_docs/python/tf/contrib/seq2seq/TrainingHelper) \n",
    "* Create a [`tf.contrib.seq2seq.BasicDecoder`](https://www.tensorflow.org/api_docs/python/tf/contrib/seq2seq/BasicDecoder)\n",
    "* Obtain the decoder outputs from [`tf.contrib.seq2seq.dynamic_decode`](https://www.tensorflow.org/api_docs/python/tf/contrib/seq2seq/dynamic_decode)"
   ]
  },
  {
   "cell_type": "code",
   "execution_count": 10,
   "metadata": {},
   "outputs": [
    {
     "name": "stdout",
     "output_type": "stream",
     "text": [
      "Tests Passed\n"
     ]
    }
   ],
   "source": [
    "\n",
    "def decoding_layer_train(encoder_state, dec_cell, dec_embed_input, \n",
    "                         target_sequence_length, max_summary_length, \n",
    "                         output_layer, keep_prob):\n",
    "    \"\"\"\n",
    "    Create a decoding layer for training\n",
    "    :param encoder_state: Encoder State\n",
    "    :param dec_cell: Decoder RNN Cell\n",
    "    :param dec_embed_input: Decoder embedded input\n",
    "    :param target_sequence_length: The lengths of each sequence in the target batch\n",
    "    :param max_summary_length: The length of the longest sequence in the batch\n",
    "    :param output_layer: Function to apply the output layer\n",
    "    :param keep_prob: Dropout keep probability\n",
    "    :return: BasicDecoderOutput containing training logits and sample_id\n",
    "    \"\"\"\n",
    "    # TODO: Implement Function\n",
    "    #print(output_layer)\n",
    "    # Helper for the training process. Used by BasicDecoder to read inputs\n",
    "    #with tf.variable_scope(\"decode\"):\n",
    "    training_helper = tf.contrib.seq2seq.TrainingHelper(inputs=dec_embed_input,\n",
    "                                                           sequence_length=target_sequence_length,\n",
    "                                                           time_major=False)\n",
    "    # Basic Decoder\n",
    "    training_decoder = tf.contrib.seq2seq.BasicDecoder(dec_cell, training_helper,\n",
    "                                       encoder_state, output_layer)\n",
    "        \n",
    "    #Perform dynamic decoding using the decoder\n",
    "    training_decoder_output = tf.contrib.seq2seq.dynamic_decode(training_decoder,\n",
    "                                                                   impute_finished=True,\n",
    "                                                                   maximum_iterations=max_summary_length)[0]\n",
    "    return training_decoder_output\n",
    "\n",
    "\n",
    "\n",
    "\"\"\"\n",
    "DON'T MODIFY ANYTHING IN THIS CELL THAT IS BELOW THIS LINE\n",
    "\"\"\"\n",
    "tests.test_decoding_layer_train(decoding_layer_train)"
   ]
  },
  {
   "cell_type": "markdown",
   "metadata": {},
   "source": [
    "### Decoding - Inference\n",
    "Create inference decoder:\n",
    "* Create a [`tf.contrib.seq2seq.GreedyEmbeddingHelper`](https://www.tensorflow.org/api_docs/python/tf/contrib/seq2seq/GreedyEmbeddingHelper)\n",
    "* Create a [`tf.contrib.seq2seq.BasicDecoder`](https://www.tensorflow.org/api_docs/python/tf/contrib/seq2seq/BasicDecoder)\n",
    "* Obtain the decoder outputs from [`tf.contrib.seq2seq.dynamic_decode`](https://www.tensorflow.org/api_docs/python/tf/contrib/seq2seq/dynamic_decode)"
   ]
  },
  {
   "cell_type": "code",
   "execution_count": 12,
   "metadata": {
    "scrolled": true
   },
   "outputs": [
    {
     "name": "stdout",
     "output_type": "stream",
     "text": [
      "Tests Passed\n"
     ]
    }
   ],
   "source": [
    "def decoding_layer_infer(encoder_state, dec_cell, dec_embeddings, start_of_sequence_id,\n",
    "                         end_of_sequence_id, max_target_sequence_length,\n",
    "                         vocab_size, output_layer, batch_size, keep_prob):\n",
    "    \"\"\"\n",
    "    Create a decoding layer for inference\n",
    "    :param encoder_state: Encoder state\n",
    "    :param dec_cell: Decoder RNN Cell\n",
    "    :param dec_embeddings: Decoder embeddings\n",
    "    :param start_of_sequence_id: GO ID\n",
    "    :param end_of_sequence_id: EOS Id\n",
    "    :param max_target_sequence_length: Maximum length of target sequences\n",
    "    :param vocab_size: Size of decoder/target vocabulary\n",
    "    :param decoding_scope: TenorFlow Variable Scope for decoding\n",
    "    :param output_layer: Function to apply the output layer\n",
    "    :param batch_size: Batch size\n",
    "    :param keep_prob: Dropout keep probability\n",
    "    :return: BasicDecoderOutput containing inference logits and sample_id\n",
    "    \"\"\"\n",
    "    # TODO: Implement Function\n",
    "    \n",
    "    start_tokens = tf.tile(tf.constant([start_of_sequence_id], dtype=tf.int32), \n",
    "                              [batch_size], name='start_tokens')\n",
    "    # Helper for inference process\n",
    "    inference_helper = tf.contrib.seq2seq.GreedyEmbeddingHelper(dec_embeddings,\n",
    "                                                                   start_tokens,\n",
    "                                                                   end_of_sequence_id)\n",
    "    #Basic decoder\n",
    "    inference_decoder = tf.contrib.seq2seq.BasicDecoder(dec_cell, inference_helper,\n",
    "                                                           encoder_state, output_layer)\n",
    "        \n",
    "    #Perform dynamic decoding using the decoder\n",
    "    inference_decoder_output = tf.contrib.seq2seq.dynamic_decode(inference_decoder,\n",
    "                                                                    impute_finished=True,\n",
    "                                                                    maximum_iterations=max_target_sequence_length)[0]\n",
    "    return inference_decoder_output\n",
    "\n",
    "\n",
    "\n",
    "\"\"\"\n",
    "DON'T MODIFY ANYTHING IN THIS CELL THAT IS BELOW THIS LINE\n",
    "\"\"\"\n",
    "tests.test_decoding_layer_infer(decoding_layer_infer)"
   ]
  },
  {
   "cell_type": "markdown",
   "metadata": {},
   "source": [
    "### Build the Decoding Layer\n",
    "Implement `decoding_layer()` to create a Decoder RNN layer.\n",
    "\n",
    "* Embed the target sequences\n",
    "* Construct the decoder LSTM cell (just like you constructed the encoder cell above)\n",
    "* Create an output layer to map the outputs of the decoder to the elements of our vocabulary\n",
    "* Use the your `decoding_layer_train(encoder_state, dec_cell, dec_embed_input, target_sequence_length, max_target_sequence_length, output_layer, keep_prob)` function to get the training logits.\n",
    "* Use your `decoding_layer_infer(encoder_state, dec_cell, dec_embeddings, start_of_sequence_id, end_of_sequence_id, max_target_sequence_length, vocab_size, output_layer, batch_size, keep_prob)` function to get the inference logits.\n",
    "\n",
    "Note: You'll need to use [tf.variable_scope](https://www.tensorflow.org/api_docs/python/tf/variable_scope) to share variables between training and inference."
   ]
  },
  {
   "cell_type": "code",
   "execution_count": 18,
   "metadata": {},
   "outputs": [
    {
     "name": "stdout",
     "output_type": "stream",
     "text": [
      "Tests Passed\n"
     ]
    }
   ],
   "source": [
    "\n",
    "def decoding_layer(dec_input, encoder_state,\n",
    "                   target_sequence_length, max_target_sequence_length,\n",
    "                   rnn_size,\n",
    "                   num_layers, target_vocab_to_int, target_vocab_size,\n",
    "                   batch_size, keep_prob, decoding_embedding_size):\n",
    "    \"\"\"\n",
    "    Create decoding layer\n",
    "    :param dec_input: Decoder input\n",
    "    :param encoder_state: Encoder state\n",
    "    :param target_sequence_length: The lengths of each sequence in the target batch\n",
    "    :param max_target_sequence_length: Maximum length of target sequences\n",
    "    :param rnn_size: RNN Size\n",
    "    :param num_layers: Number of layers\n",
    "    :param target_vocab_to_int: Dictionary to go from the target words to an id\n",
    "    :param target_vocab_size: Size of target vocabulary\n",
    "    :param batch_size: The size of the batch\n",
    "    :param keep_prob: Dropout keep probability\n",
    "    :param decoding_embedding_size: Decoding embedding size\n",
    "    :return: Tuple of (Training BasicDecoderOutput, Inference BasicDecoderOutput)\n",
    "    \"\"\"\n",
    "    # TODO: Implement Function\n",
    "    \n",
    "  \n",
    "    dec_embeddings = tf.Variable(tf.random_uniform([target_vocab_size, decoding_embedding_size]))\n",
    "    dec_embed_input=tf.nn.embedding_lookup(dec_embeddings, dec_input)\n",
    "    \n",
    "    #Construct decoder cell\n",
    "    def make_cell(rnn_size):\n",
    "        dec_cell = tf.contrib.rnn.LSTMCell(rnn_size,\n",
    "                                          initializer=tf.random_uniform_initializer(-0.1,0.1, seed=2))\n",
    "                                        #reuse=tf.get_variable_scope().reuse)\n",
    "        dec_cell_drop = tf.contrib.rnn.DropoutWrapper(dec_cell, output_keep_prob=keep_prob)\n",
    "        return dec_cell_drop\n",
    "    \n",
    "    dec_cell = tf.contrib.rnn.MultiRNNCell([make_cell(rnn_size) for _ in range(num_layers)])\n",
    "    \n",
    "    output_layer=Dense(target_vocab_size,\n",
    "                      kernel_initializer=tf.truncated_normal_initializer(mean=0.0, stddev=0.1))\n",
    "    \n",
    "    with tf.variable_scope(\"decode\") as decoding_scope:\n",
    "    \n",
    "        train_decoder_output = decoding_layer_train(encoder_state, \n",
    "                                                       dec_cell, \n",
    "                                                       dec_embed_input, \n",
    "                                                       target_sequence_length, \n",
    "                                                       max_target_sequence_length, \n",
    "                                                       output_layer, \n",
    "                                                       keep_prob)\n",
    "        \n",
    "        decoding_scope.reuse_variables()\n",
    "   \n",
    "        infer_logits_output = decoding_layer_infer(encoder_state, \n",
    "                                                        dec_cell, \n",
    "                                                        dec_embeddings, \n",
    "                                                        target_vocab_to_int['<GO>'],\n",
    "                                                        target_vocab_to_int['<EOS>'], \n",
    "                                                        max_target_sequence_length,\n",
    "                                                        target_vocab_size, \n",
    "                                                        output_layer, \n",
    "                                                        batch_size, keep_prob)\n",
    "       \n",
    "    return (train_decoder_output, infer_logits_output)\n",
    "\n",
    "\n",
    "\n",
    "\"\"\"\n",
    "DON'T MODIFY ANYTHING IN THIS CELL THAT IS BELOW THIS LINE\n",
    "\"\"\"\n",
    "tests.test_decoding_layer(decoding_layer)"
   ]
  },
  {
   "cell_type": "markdown",
   "metadata": {},
   "source": [
    "### Build the Neural Network\n",
    "Apply the functions you implemented above to:\n",
    "\n",
    "- Encode the input using your `encoding_layer(rnn_inputs, rnn_size, num_layers, keep_prob,  source_sequence_length, source_vocab_size, encoding_embedding_size)`.\n",
    "- Process target data using your `process_decoder_input(target_data, target_vocab_to_int, batch_size)` function.\n",
    "- Decode the encoded input using your `decoding_layer(dec_input, enc_state, target_sequence_length, max_target_sentence_length, rnn_size, num_layers, target_vocab_to_int, target_vocab_size, batch_size, keep_prob, dec_embedding_size)` function."
   ]
  },
  {
   "cell_type": "code",
   "execution_count": 19,
   "metadata": {},
   "outputs": [
    {
     "name": "stdout",
     "output_type": "stream",
     "text": [
      "Tests Passed\n"
     ]
    }
   ],
   "source": [
    "def seq2seq_model(input_data, target_data, keep_prob, batch_size,\n",
    "                  source_sequence_length, target_sequence_length,\n",
    "                  max_target_sentence_length,\n",
    "                  source_vocab_size, target_vocab_size,\n",
    "                  enc_embedding_size, dec_embedding_size,\n",
    "                  rnn_size, num_layers, target_vocab_to_int):\n",
    "    \"\"\"\n",
    "    Build the Sequence-to-Sequence part of the neural network\n",
    "    :param input_data: Input placeholder\n",
    "    :param target_data: Target placeholder\n",
    "    :param keep_prob: Dropout keep probability placeholder\n",
    "    :param batch_size: Batch Size\n",
    "    :param source_sequence_length: Sequence Lengths of source sequences in the batch\n",
    "    :param target_sequence_length: Sequence Lengths of target sequences in the batch\n",
    "    :param source_vocab_size: Source vocabulary size\n",
    "    :param target_vocab_size: Target vocabulary size\n",
    "    :param enc_embedding_size: Decoder embedding size\n",
    "    :param dec_embedding_size: Encoder embedding size\n",
    "    :param rnn_size: RNN Size\n",
    "    :param num_layers: Number of layers\n",
    "    :param target_vocab_to_int: Dictionary to go from the target words to an id\n",
    "    :return: Tuple of (Training BasicDecoderOutput, Inference BasicDecoderOutput)\n",
    "    \"\"\"\n",
    "    # TODO: Implement Function\n",
    "    _, enc_state = encoding_layer(input_data, \n",
    "                                  rnn_size,\n",
    "                                  num_layers,\n",
    "                                  keep_prob,\n",
    "                                  source_sequence_length,\n",
    "                                  source_vocab_size,\n",
    "                                  enc_embedding_size)\n",
    "    dec_input = process_decoder_input(target_data, \n",
    "                                     target_vocab_to_int,\n",
    "                                     batch_size)\n",
    "    \n",
    "    training_decoder_output, inference_decoder_output = decoding_layer(dec_input, \n",
    "                                                                       enc_state,\n",
    "                                                                       target_sequence_length, \n",
    "                                                                       max_target_sentence_length,\n",
    "                                                                       rnn_size,\n",
    "                                                                       num_layers, \n",
    "                                                                       target_vocab_to_int, \n",
    "                                                                       target_vocab_size,\n",
    "                                                                       batch_size, \n",
    "                                                                       keep_prob, \n",
    "                                                                       dec_embedding_size)\n",
    "    return training_decoder_output, inference_decoder_output\n",
    "\n",
    "\n",
    "\"\"\"\n",
    "DON'T MODIFY ANYTHING IN THIS CELL THAT IS BELOW THIS LINE\n",
    "\"\"\"\n",
    "tests.test_seq2seq_model(seq2seq_model)"
   ]
  },
  {
   "cell_type": "markdown",
   "metadata": {},
   "source": [
    "## Neural Network Training\n",
    "### Hyperparameters\n",
    "Tune the following parameters:\n",
    "\n",
    "- Set `epochs` to the number of epochs.\n",
    "- Set `batch_size` to the batch size.\n",
    "- Set `rnn_size` to the size of the RNNs.\n",
    "- Set `num_layers` to the number of layers.\n",
    "- Set `encoding_embedding_size` to the size of the embedding for the encoder.\n",
    "- Set `decoding_embedding_size` to the size of the embedding for the decoder.\n",
    "- Set `learning_rate` to the learning rate.\n",
    "- Set `keep_probability` to the Dropout keep probability\n",
    "- Set `display_step` to state how many steps between each debug output statement"
   ]
  },
  {
   "cell_type": "code",
   "execution_count": 24,
   "metadata": {
    "collapsed": true
   },
   "outputs": [],
   "source": [
    "# Number of Epochs\n",
    "epochs = 5\n",
    "# Batch Size\n",
    "batch_size = 256\n",
    "# RNN Size\n",
    "rnn_size = 256\n",
    "# Number of Layers\n",
    "num_layers = 2\n",
    "# Embedding Size\n",
    "encoding_embedding_size = 256\n",
    "decoding_embedding_size = 256\n",
    "# Learning Rate\n",
    "learning_rate = 0.001\n",
    "# Dropout Keep Probability\n",
    "keep_probability = 0.5\n",
    "display_step =10"
   ]
  },
  {
   "cell_type": "markdown",
   "metadata": {},
   "source": [
    "### Build the Graph\n",
    "Build the graph using the neural network you implemented."
   ]
  },
  {
   "cell_type": "code",
   "execution_count": 25,
   "metadata": {
    "collapsed": true
   },
   "outputs": [],
   "source": [
    "\"\"\"\n",
    "DON'T MODIFY ANYTHING IN THIS CELL\n",
    "\"\"\"\n",
    "save_path = 'checkpoints/dev'\n",
    "(source_int_text, target_int_text), (source_vocab_to_int, target_vocab_to_int), _ = helper.load_preprocess()\n",
    "max_target_sentence_length = max([len(sentence) for sentence in source_int_text])\n",
    "\n",
    "train_graph = tf.Graph()\n",
    "with train_graph.as_default():\n",
    "    input_data, targets, lr, keep_prob, target_sequence_length, max_target_sequence_length, source_sequence_length = model_inputs()\n",
    "\n",
    "    #sequence_length = tf.placeholder_with_default(max_target_sentence_length, None, name='sequence_length')\n",
    "    input_shape = tf.shape(input_data)\n",
    "\n",
    "    train_logits, inference_logits = seq2seq_model(tf.reverse(input_data, [-1]),\n",
    "                                                   targets,\n",
    "                                                   keep_prob,\n",
    "                                                   batch_size,\n",
    "                                                   source_sequence_length,\n",
    "                                                   target_sequence_length,\n",
    "                                                   max_target_sequence_length,\n",
    "                                                   len(source_vocab_to_int),\n",
    "                                                   len(target_vocab_to_int),\n",
    "                                                   encoding_embedding_size,\n",
    "                                                   decoding_embedding_size,\n",
    "                                                   rnn_size,\n",
    "                                                   num_layers,\n",
    "                                                   target_vocab_to_int)\n",
    "\n",
    "\n",
    "    training_logits = tf.identity(train_logits.rnn_output, name='logits')\n",
    "    inference_logits = tf.identity(inference_logits.sample_id, name='predictions')\n",
    "\n",
    "    masks = tf.sequence_mask(target_sequence_length, max_target_sequence_length, dtype=tf.float32, name='masks')\n",
    "\n",
    "    with tf.name_scope(\"optimization\"):\n",
    "        # Loss function\n",
    "        cost = tf.contrib.seq2seq.sequence_loss(\n",
    "            training_logits,\n",
    "            targets,\n",
    "            masks)\n",
    "\n",
    "        # Optimizer\n",
    "        optimizer = tf.train.AdamOptimizer(lr)\n",
    "\n",
    "        # Gradient Clipping\n",
    "        gradients = optimizer.compute_gradients(cost)\n",
    "        capped_gradients = [(tf.clip_by_value(grad, -1., 1.), var) for grad, var in gradients if grad is not None]\n",
    "        train_op = optimizer.apply_gradients(capped_gradients)\n"
   ]
  },
  {
   "cell_type": "markdown",
   "metadata": {},
   "source": [
    "Batch and pad the source and target sequences"
   ]
  },
  {
   "cell_type": "code",
   "execution_count": 26,
   "metadata": {
    "collapsed": true
   },
   "outputs": [],
   "source": [
    "\"\"\"\n",
    "DON'T MODIFY ANYTHING IN THIS CELL\n",
    "\"\"\"\n",
    "def pad_sentence_batch(sentence_batch, pad_int):\n",
    "    \"\"\"Pad sentences with <PAD> so that each sentence of a batch has the same length\"\"\"\n",
    "    max_sentence = max([len(sentence) for sentence in sentence_batch])\n",
    "    return [sentence + [pad_int] * (max_sentence - len(sentence)) for sentence in sentence_batch]\n",
    "\n",
    "\n",
    "def get_batches(sources, targets, batch_size, source_pad_int, target_pad_int):\n",
    "    \"\"\"Batch targets, sources, and the lengths of their sentences together\"\"\"\n",
    "    for batch_i in range(0, len(sources)//batch_size):\n",
    "        start_i = batch_i * batch_size\n",
    "\n",
    "        # Slice the right amount for the batch\n",
    "        sources_batch = sources[start_i:start_i + batch_size]\n",
    "        targets_batch = targets[start_i:start_i + batch_size]\n",
    "\n",
    "        # Pad\n",
    "        pad_sources_batch = np.array(pad_sentence_batch(sources_batch, source_pad_int))\n",
    "        pad_targets_batch = np.array(pad_sentence_batch(targets_batch, target_pad_int))\n",
    "\n",
    "        # Need the lengths for the _lengths parameters\n",
    "        pad_targets_lengths = []\n",
    "        for target in pad_targets_batch:\n",
    "            pad_targets_lengths.append(len(target))\n",
    "\n",
    "        pad_source_lengths = []\n",
    "        for source in pad_sources_batch:\n",
    "            pad_source_lengths.append(len(source))\n",
    "\n",
    "        yield pad_sources_batch, pad_targets_batch, pad_source_lengths, pad_targets_lengths\n"
   ]
  },
  {
   "cell_type": "markdown",
   "metadata": {},
   "source": [
    "### Train\n",
    "Train the neural network on the preprocessed data. If you have a hard time getting a good loss, check the forms to see if anyone is having the same problem."
   ]
  },
  {
   "cell_type": "code",
   "execution_count": 27,
   "metadata": {
    "scrolled": true
   },
   "outputs": [
    {
     "name": "stdout",
     "output_type": "stream",
     "text": [
      "Epoch   0 Batch   10/538 - Train Accuracy: 0.2807, Validation Accuracy: 0.3697, Loss: 3.6919\n",
      "Epoch   0 Batch   20/538 - Train Accuracy: 0.4105, Validation Accuracy: 0.4469, Loss: 2.9397\n",
      "Epoch   0 Batch   30/538 - Train Accuracy: 0.4100, Validation Accuracy: 0.4789, Loss: 2.7866\n",
      "Epoch   0 Batch   40/538 - Train Accuracy: 0.4963, Validation Accuracy: 0.4881, Loss: 2.2757\n",
      "Epoch   0 Batch   50/538 - Train Accuracy: 0.4541, Validation Accuracy: 0.4977, Loss: 2.2974\n",
      "Epoch   0 Batch   60/538 - Train Accuracy: 0.4418, Validation Accuracy: 0.4982, Loss: 2.1588\n",
      "Epoch   0 Batch   70/538 - Train Accuracy: 0.4779, Validation Accuracy: 0.5107, Loss: 1.9271\n",
      "Epoch   0 Batch   80/538 - Train Accuracy: 0.4178, Validation Accuracy: 0.4860, Loss: 1.8825\n",
      "Epoch   0 Batch   90/538 - Train Accuracy: 0.4481, Validation Accuracy: 0.4799, Loss: 1.6989\n",
      "Epoch   0 Batch  100/538 - Train Accuracy: 0.3965, Validation Accuracy: 0.4565, Loss: 1.6095\n",
      "Epoch   0 Batch  110/538 - Train Accuracy: 0.4523, Validation Accuracy: 0.4968, Loss: 1.5921\n",
      "Epoch   0 Batch  120/538 - Train Accuracy: 0.4113, Validation Accuracy: 0.4586, Loss: 1.4785\n",
      "Epoch   0 Batch  130/538 - Train Accuracy: 0.4775, Validation Accuracy: 0.5051, Loss: 1.3392\n",
      "Epoch   0 Batch  140/538 - Train Accuracy: 0.4713, Validation Accuracy: 0.5206, Loss: 1.3812\n",
      "Epoch   0 Batch  150/538 - Train Accuracy: 0.4557, Validation Accuracy: 0.4973, Loss: 1.2546\n",
      "Epoch   0 Batch  160/538 - Train Accuracy: 0.5212, Validation Accuracy: 0.5332, Loss: 1.1328\n",
      "Epoch   0 Batch  170/538 - Train Accuracy: 0.5445, Validation Accuracy: 0.5586, Loss: 1.0871\n",
      "Epoch   0 Batch  180/538 - Train Accuracy: 0.5359, Validation Accuracy: 0.5621, Loss: 1.0638\n",
      "Epoch   0 Batch  190/538 - Train Accuracy: 0.5435, Validation Accuracy: 0.5774, Loss: 1.0413\n",
      "Epoch   0 Batch  200/538 - Train Accuracy: 0.5594, Validation Accuracy: 0.5826, Loss: 0.9705\n",
      "Epoch   0 Batch  210/538 - Train Accuracy: 0.5781, Validation Accuracy: 0.5806, Loss: 0.9255\n",
      "Epoch   0 Batch  220/538 - Train Accuracy: 0.5578, Validation Accuracy: 0.5909, Loss: 0.8912\n",
      "Epoch   0 Batch  230/538 - Train Accuracy: 0.5705, Validation Accuracy: 0.5996, Loss: 0.8942\n",
      "Epoch   0 Batch  240/538 - Train Accuracy: 0.5687, Validation Accuracy: 0.5987, Loss: 0.8883\n",
      "Epoch   0 Batch  250/538 - Train Accuracy: 0.5824, Validation Accuracy: 0.6000, Loss: 0.8238\n",
      "Epoch   0 Batch  260/538 - Train Accuracy: 0.5841, Validation Accuracy: 0.6122, Loss: 0.8160\n",
      "Epoch   0 Batch  270/538 - Train Accuracy: 0.5818, Validation Accuracy: 0.6023, Loss: 0.7979\n",
      "Epoch   0 Batch  280/538 - Train Accuracy: 0.6189, Validation Accuracy: 0.6094, Loss: 0.7416\n",
      "Epoch   0 Batch  290/538 - Train Accuracy: 0.5797, Validation Accuracy: 0.6049, Loss: 0.7690\n",
      "Epoch   0 Batch  300/538 - Train Accuracy: 0.6220, Validation Accuracy: 0.6101, Loss: 0.7335\n",
      "Epoch   0 Batch  310/538 - Train Accuracy: 0.6121, Validation Accuracy: 0.6211, Loss: 0.7173\n",
      "Epoch   0 Batch  320/538 - Train Accuracy: 0.6226, Validation Accuracy: 0.6280, Loss: 0.7060\n",
      "Epoch   0 Batch  330/538 - Train Accuracy: 0.6202, Validation Accuracy: 0.6145, Loss: 0.6658\n",
      "Epoch   0 Batch  340/538 - Train Accuracy: 0.6051, Validation Accuracy: 0.6115, Loss: 0.7190\n",
      "Epoch   0 Batch  350/538 - Train Accuracy: 0.6099, Validation Accuracy: 0.6083, Loss: 0.6827\n",
      "Epoch   0 Batch  360/538 - Train Accuracy: 0.6320, Validation Accuracy: 0.6301, Loss: 0.6793\n",
      "Epoch   0 Batch  370/538 - Train Accuracy: 0.6316, Validation Accuracy: 0.6358, Loss: 0.6729\n",
      "Epoch   0 Batch  380/538 - Train Accuracy: 0.6062, Validation Accuracy: 0.6452, Loss: 0.6384\n",
      "Epoch   0 Batch  390/538 - Train Accuracy: 0.6579, Validation Accuracy: 0.6342, Loss: 0.6063\n",
      "Epoch   0 Batch  400/538 - Train Accuracy: 0.6410, Validation Accuracy: 0.6513, Loss: 0.6058\n",
      "Epoch   0 Batch  410/538 - Train Accuracy: 0.6398, Validation Accuracy: 0.6607, Loss: 0.6295\n",
      "Epoch   0 Batch  420/538 - Train Accuracy: 0.6736, Validation Accuracy: 0.6710, Loss: 0.5935\n",
      "Epoch   0 Batch  430/538 - Train Accuracy: 0.6613, Validation Accuracy: 0.6660, Loss: 0.5877\n",
      "Epoch   0 Batch  440/538 - Train Accuracy: 0.6693, Validation Accuracy: 0.6799, Loss: 0.6241\n",
      "Epoch   0 Batch  450/538 - Train Accuracy: 0.6808, Validation Accuracy: 0.6784, Loss: 0.6002\n",
      "Epoch   0 Batch  460/538 - Train Accuracy: 0.6726, Validation Accuracy: 0.6841, Loss: 0.5596\n",
      "Epoch   0 Batch  470/538 - Train Accuracy: 0.6882, Validation Accuracy: 0.6903, Loss: 0.5431\n",
      "Epoch   0 Batch  480/538 - Train Accuracy: 0.6793, Validation Accuracy: 0.6808, Loss: 0.5340\n",
      "Epoch   0 Batch  490/538 - Train Accuracy: 0.6838, Validation Accuracy: 0.6777, Loss: 0.5205\n",
      "Epoch   0 Batch  500/538 - Train Accuracy: 0.7127, Validation Accuracy: 0.7031, Loss: 0.4873\n",
      "Epoch   0 Batch  510/538 - Train Accuracy: 0.7160, Validation Accuracy: 0.7012, Loss: 0.4992\n",
      "Epoch   0 Batch  520/538 - Train Accuracy: 0.6838, Validation Accuracy: 0.6985, Loss: 0.5325\n",
      "Epoch   0 Batch  530/538 - Train Accuracy: 0.7119, Validation Accuracy: 0.7053, Loss: 0.5281\n",
      "Epoch   1 Batch   10/538 - Train Accuracy: 0.7010, Validation Accuracy: 0.7083, Loss: 0.5125\n",
      "Epoch   1 Batch   20/538 - Train Accuracy: 0.7169, Validation Accuracy: 0.7209, Loss: 0.4879\n",
      "Epoch   1 Batch   30/538 - Train Accuracy: 0.7100, Validation Accuracy: 0.7218, Loss: 0.4934\n",
      "Epoch   1 Batch   40/538 - Train Accuracy: 0.7363, Validation Accuracy: 0.7372, Loss: 0.4119\n",
      "Epoch   1 Batch   50/538 - Train Accuracy: 0.7430, Validation Accuracy: 0.7191, Loss: 0.4469\n",
      "Epoch   1 Batch   60/538 - Train Accuracy: 0.7482, Validation Accuracy: 0.7363, Loss: 0.4463\n",
      "Epoch   1 Batch   70/538 - Train Accuracy: 0.7349, Validation Accuracy: 0.7431, Loss: 0.4348\n",
      "Epoch   1 Batch   80/538 - Train Accuracy: 0.7250, Validation Accuracy: 0.7227, Loss: 0.4553\n",
      "Epoch   1 Batch   90/538 - Train Accuracy: 0.7372, Validation Accuracy: 0.7530, Loss: 0.4362\n",
      "Epoch   1 Batch  100/538 - Train Accuracy: 0.7643, Validation Accuracy: 0.7491, Loss: 0.3991\n",
      "Epoch   1 Batch  110/538 - Train Accuracy: 0.7457, Validation Accuracy: 0.7512, Loss: 0.4149\n",
      "Epoch   1 Batch  120/538 - Train Accuracy: 0.7773, Validation Accuracy: 0.7614, Loss: 0.3608\n",
      "Epoch   1 Batch  130/538 - Train Accuracy: 0.8060, Validation Accuracy: 0.7635, Loss: 0.3506\n",
      "Epoch   1 Batch  140/538 - Train Accuracy: 0.7551, Validation Accuracy: 0.7793, Loss: 0.3897\n",
      "Epoch   1 Batch  150/538 - Train Accuracy: 0.7621, Validation Accuracy: 0.7610, Loss: 0.3691\n",
      "Epoch   1 Batch  160/538 - Train Accuracy: 0.7740, Validation Accuracy: 0.7708, Loss: 0.3326\n",
      "Epoch   1 Batch  170/538 - Train Accuracy: 0.8051, Validation Accuracy: 0.7752, Loss: 0.3425\n",
      "Epoch   1 Batch  180/538 - Train Accuracy: 0.8110, Validation Accuracy: 0.7860, Loss: 0.3300\n",
      "Epoch   1 Batch  190/538 - Train Accuracy: 0.7855, Validation Accuracy: 0.7933, Loss: 0.3437\n",
      "Epoch   1 Batch  200/538 - Train Accuracy: 0.8141, Validation Accuracy: 0.7963, Loss: 0.3149\n",
      "Epoch   1 Batch  210/538 - Train Accuracy: 0.8017, Validation Accuracy: 0.8034, Loss: 0.3056\n",
      "Epoch   1 Batch  220/538 - Train Accuracy: 0.8172, Validation Accuracy: 0.8125, Loss: 0.2876\n",
      "Epoch   1 Batch  230/538 - Train Accuracy: 0.8365, Validation Accuracy: 0.8137, Loss: 0.2944\n",
      "Epoch   1 Batch  240/538 - Train Accuracy: 0.8146, Validation Accuracy: 0.8294, Loss: 0.3014\n",
      "Epoch   1 Batch  250/538 - Train Accuracy: 0.8314, Validation Accuracy: 0.8127, Loss: 0.2830\n",
      "Epoch   1 Batch  260/538 - Train Accuracy: 0.8039, Validation Accuracy: 0.8262, Loss: 0.2789\n",
      "Epoch   1 Batch  270/538 - Train Accuracy: 0.8221, Validation Accuracy: 0.8196, Loss: 0.2762\n",
      "Epoch   1 Batch  280/538 - Train Accuracy: 0.8521, Validation Accuracy: 0.8368, Loss: 0.2504\n",
      "Epoch   1 Batch  290/538 - Train Accuracy: 0.8363, Validation Accuracy: 0.8375, Loss: 0.2529\n",
      "Epoch   1 Batch  300/538 - Train Accuracy: 0.8449, Validation Accuracy: 0.8349, Loss: 0.2470\n",
      "Epoch   1 Batch  310/538 - Train Accuracy: 0.8736, Validation Accuracy: 0.8418, Loss: 0.2560\n",
      "Epoch   1 Batch  320/538 - Train Accuracy: 0.8700, Validation Accuracy: 0.8627, Loss: 0.2327\n",
      "Epoch   1 Batch  330/538 - Train Accuracy: 0.8752, Validation Accuracy: 0.8592, Loss: 0.2174\n",
      "Epoch   1 Batch  340/538 - Train Accuracy: 0.8768, Validation Accuracy: 0.8539, Loss: 0.2307\n",
      "Epoch   1 Batch  350/538 - Train Accuracy: 0.8627, Validation Accuracy: 0.8567, Loss: 0.2350\n",
      "Epoch   1 Batch  360/538 - Train Accuracy: 0.8660, Validation Accuracy: 0.8612, Loss: 0.2248\n"
     ]
    },
    {
     "name": "stdout",
     "output_type": "stream",
     "text": [
      "Epoch   1 Batch  370/538 - Train Accuracy: 0.8912, Validation Accuracy: 0.8572, Loss: 0.2239\n",
      "Epoch   1 Batch  380/538 - Train Accuracy: 0.8844, Validation Accuracy: 0.8762, Loss: 0.1950\n",
      "Epoch   1 Batch  390/538 - Train Accuracy: 0.8865, Validation Accuracy: 0.8642, Loss: 0.1859\n",
      "Epoch   1 Batch  400/538 - Train Accuracy: 0.8860, Validation Accuracy: 0.8770, Loss: 0.2026\n",
      "Epoch   1 Batch  410/538 - Train Accuracy: 0.8949, Validation Accuracy: 0.8762, Loss: 0.1950\n",
      "Epoch   1 Batch  420/538 - Train Accuracy: 0.8977, Validation Accuracy: 0.8832, Loss: 0.1879\n",
      "Epoch   1 Batch  430/538 - Train Accuracy: 0.8732, Validation Accuracy: 0.8860, Loss: 0.1842\n",
      "Epoch   1 Batch  440/538 - Train Accuracy: 0.8705, Validation Accuracy: 0.8796, Loss: 0.2098\n",
      "Epoch   1 Batch  450/538 - Train Accuracy: 0.8841, Validation Accuracy: 0.8816, Loss: 0.1955\n",
      "Epoch   1 Batch  460/538 - Train Accuracy: 0.8726, Validation Accuracy: 0.8732, Loss: 0.1765\n",
      "Epoch   1 Batch  470/538 - Train Accuracy: 0.9014, Validation Accuracy: 0.8842, Loss: 0.1629\n",
      "Epoch   1 Batch  480/538 - Train Accuracy: 0.9062, Validation Accuracy: 0.8821, Loss: 0.1563\n",
      "Epoch   1 Batch  490/538 - Train Accuracy: 0.9096, Validation Accuracy: 0.8880, Loss: 0.1508\n",
      "Epoch   1 Batch  500/538 - Train Accuracy: 0.9038, Validation Accuracy: 0.8901, Loss: 0.1429\n",
      "Epoch   1 Batch  510/538 - Train Accuracy: 0.9005, Validation Accuracy: 0.8947, Loss: 0.1436\n",
      "Epoch   1 Batch  520/538 - Train Accuracy: 0.8996, Validation Accuracy: 0.8770, Loss: 0.1571\n",
      "Epoch   1 Batch  530/538 - Train Accuracy: 0.8979, Validation Accuracy: 0.8983, Loss: 0.1592\n",
      "Epoch   2 Batch   10/538 - Train Accuracy: 0.8963, Validation Accuracy: 0.8741, Loss: 0.1600\n",
      "Epoch   2 Batch   20/538 - Train Accuracy: 0.9131, Validation Accuracy: 0.8945, Loss: 0.1311\n",
      "Epoch   2 Batch   30/538 - Train Accuracy: 0.8877, Validation Accuracy: 0.8972, Loss: 0.1479\n",
      "Epoch   2 Batch   40/538 - Train Accuracy: 0.9096, Validation Accuracy: 0.8988, Loss: 0.1142\n",
      "Epoch   2 Batch   50/538 - Train Accuracy: 0.9084, Validation Accuracy: 0.9018, Loss: 0.1181\n",
      "Epoch   2 Batch   60/538 - Train Accuracy: 0.9279, Validation Accuracy: 0.9031, Loss: 0.1171\n",
      "Epoch   2 Batch   70/538 - Train Accuracy: 0.9001, Validation Accuracy: 0.9004, Loss: 0.1257\n",
      "Epoch   2 Batch   80/538 - Train Accuracy: 0.9096, Validation Accuracy: 0.9086, Loss: 0.1242\n",
      "Epoch   2 Batch   90/538 - Train Accuracy: 0.8876, Validation Accuracy: 0.8999, Loss: 0.1305\n",
      "Epoch   2 Batch  100/538 - Train Accuracy: 0.9273, Validation Accuracy: 0.9160, Loss: 0.1146\n",
      "Epoch   2 Batch  110/538 - Train Accuracy: 0.9062, Validation Accuracy: 0.9009, Loss: 0.1247\n",
      "Epoch   2 Batch  120/538 - Train Accuracy: 0.9316, Validation Accuracy: 0.9098, Loss: 0.1003\n",
      "Epoch   2 Batch  130/538 - Train Accuracy: 0.9243, Validation Accuracy: 0.9137, Loss: 0.1110\n",
      "Epoch   2 Batch  140/538 - Train Accuracy: 0.8996, Validation Accuracy: 0.9055, Loss: 0.1278\n",
      "Epoch   2 Batch  150/538 - Train Accuracy: 0.9199, Validation Accuracy: 0.9018, Loss: 0.1120\n",
      "Epoch   2 Batch  160/538 - Train Accuracy: 0.8983, Validation Accuracy: 0.9110, Loss: 0.1038\n",
      "Epoch   2 Batch  170/538 - Train Accuracy: 0.8953, Validation Accuracy: 0.8917, Loss: 0.1108\n",
      "Epoch   2 Batch  180/538 - Train Accuracy: 0.9183, Validation Accuracy: 0.9062, Loss: 0.1028\n",
      "Epoch   2 Batch  190/538 - Train Accuracy: 0.9087, Validation Accuracy: 0.9105, Loss: 0.1189\n",
      "Epoch   2 Batch  200/538 - Train Accuracy: 0.9359, Validation Accuracy: 0.8961, Loss: 0.0871\n",
      "Epoch   2 Batch  210/538 - Train Accuracy: 0.9035, Validation Accuracy: 0.9274, Loss: 0.1007\n",
      "Epoch   2 Batch  220/538 - Train Accuracy: 0.8981, Validation Accuracy: 0.8947, Loss: 0.0958\n",
      "Epoch   2 Batch  230/538 - Train Accuracy: 0.9258, Validation Accuracy: 0.9132, Loss: 0.0997\n",
      "Epoch   2 Batch  240/538 - Train Accuracy: 0.9313, Validation Accuracy: 0.9219, Loss: 0.1070\n",
      "Epoch   2 Batch  250/538 - Train Accuracy: 0.9344, Validation Accuracy: 0.9171, Loss: 0.0896\n",
      "Epoch   2 Batch  260/538 - Train Accuracy: 0.8949, Validation Accuracy: 0.9038, Loss: 0.1043\n",
      "Epoch   2 Batch  270/538 - Train Accuracy: 0.9291, Validation Accuracy: 0.9205, Loss: 0.0895\n",
      "Epoch   2 Batch  280/538 - Train Accuracy: 0.9407, Validation Accuracy: 0.9125, Loss: 0.0834\n",
      "Epoch   2 Batch  290/538 - Train Accuracy: 0.9338, Validation Accuracy: 0.9142, Loss: 0.0827\n",
      "Epoch   2 Batch  300/538 - Train Accuracy: 0.9213, Validation Accuracy: 0.9213, Loss: 0.0918\n",
      "Epoch   2 Batch  310/538 - Train Accuracy: 0.9375, Validation Accuracy: 0.9308, Loss: 0.0908\n",
      "Epoch   2 Batch  320/538 - Train Accuracy: 0.9379, Validation Accuracy: 0.9203, Loss: 0.0788\n",
      "Epoch   2 Batch  330/538 - Train Accuracy: 0.9302, Validation Accuracy: 0.9071, Loss: 0.0820\n",
      "Epoch   2 Batch  340/538 - Train Accuracy: 0.9107, Validation Accuracy: 0.9121, Loss: 0.0941\n",
      "Epoch   2 Batch  350/538 - Train Accuracy: 0.9224, Validation Accuracy: 0.9171, Loss: 0.0936\n",
      "Epoch   2 Batch  360/538 - Train Accuracy: 0.9408, Validation Accuracy: 0.9150, Loss: 0.0834\n",
      "Epoch   2 Batch  370/538 - Train Accuracy: 0.9326, Validation Accuracy: 0.9318, Loss: 0.0819\n",
      "Epoch   2 Batch  380/538 - Train Accuracy: 0.9346, Validation Accuracy: 0.9286, Loss: 0.0757\n",
      "Epoch   2 Batch  390/538 - Train Accuracy: 0.9416, Validation Accuracy: 0.9302, Loss: 0.0679\n",
      "Epoch   2 Batch  400/538 - Train Accuracy: 0.9466, Validation Accuracy: 0.9357, Loss: 0.0800\n",
      "Epoch   2 Batch  410/538 - Train Accuracy: 0.9330, Validation Accuracy: 0.9288, Loss: 0.0851\n",
      "Epoch   2 Batch  420/538 - Train Accuracy: 0.9580, Validation Accuracy: 0.9245, Loss: 0.0741\n",
      "Epoch   2 Batch  430/538 - Train Accuracy: 0.9229, Validation Accuracy: 0.9402, Loss: 0.0810\n",
      "Epoch   2 Batch  440/538 - Train Accuracy: 0.9201, Validation Accuracy: 0.9267, Loss: 0.0875\n",
      "Epoch   2 Batch  450/538 - Train Accuracy: 0.9208, Validation Accuracy: 0.9318, Loss: 0.0890\n",
      "Epoch   2 Batch  460/538 - Train Accuracy: 0.9139, Validation Accuracy: 0.9311, Loss: 0.0876\n",
      "Epoch   2 Batch  470/538 - Train Accuracy: 0.9475, Validation Accuracy: 0.9213, Loss: 0.0706\n",
      "Epoch   2 Batch  480/538 - Train Accuracy: 0.9494, Validation Accuracy: 0.9279, Loss: 0.0717\n",
      "Epoch   2 Batch  490/538 - Train Accuracy: 0.9392, Validation Accuracy: 0.9354, Loss: 0.0648\n",
      "Epoch   2 Batch  500/538 - Train Accuracy: 0.9466, Validation Accuracy: 0.9109, Loss: 0.0572\n",
      "Epoch   2 Batch  510/538 - Train Accuracy: 0.9477, Validation Accuracy: 0.9347, Loss: 0.0658\n",
      "Epoch   2 Batch  520/538 - Train Accuracy: 0.9318, Validation Accuracy: 0.9181, Loss: 0.0760\n",
      "Epoch   2 Batch  530/538 - Train Accuracy: 0.9160, Validation Accuracy: 0.9354, Loss: 0.0770\n",
      "Epoch   3 Batch   10/538 - Train Accuracy: 0.9316, Validation Accuracy: 0.9288, Loss: 0.0752\n",
      "Epoch   3 Batch   20/538 - Train Accuracy: 0.9477, Validation Accuracy: 0.9208, Loss: 0.0733\n",
      "Epoch   3 Batch   30/538 - Train Accuracy: 0.9291, Validation Accuracy: 0.9267, Loss: 0.0741\n",
      "Epoch   3 Batch   40/538 - Train Accuracy: 0.9350, Validation Accuracy: 0.9345, Loss: 0.0588\n",
      "Epoch   3 Batch   50/538 - Train Accuracy: 0.9363, Validation Accuracy: 0.9284, Loss: 0.0621\n",
      "Epoch   3 Batch   60/538 - Train Accuracy: 0.9555, Validation Accuracy: 0.9382, Loss: 0.0630\n",
      "Epoch   3 Batch   70/538 - Train Accuracy: 0.9336, Validation Accuracy: 0.9251, Loss: 0.0615\n",
      "Epoch   3 Batch   80/538 - Train Accuracy: 0.9396, Validation Accuracy: 0.9373, Loss: 0.0707\n",
      "Epoch   3 Batch   90/538 - Train Accuracy: 0.9366, Validation Accuracy: 0.9357, Loss: 0.0761\n",
      "Epoch   3 Batch  100/538 - Train Accuracy: 0.9516, Validation Accuracy: 0.9444, Loss: 0.0584\n",
      "Epoch   3 Batch  110/538 - Train Accuracy: 0.9475, Validation Accuracy: 0.9355, Loss: 0.0629\n",
      "Epoch   3 Batch  120/538 - Train Accuracy: 0.9531, Validation Accuracy: 0.9274, Loss: 0.0486\n",
      "Epoch   3 Batch  130/538 - Train Accuracy: 0.9481, Validation Accuracy: 0.9405, Loss: 0.0600\n",
      "Epoch   3 Batch  140/538 - Train Accuracy: 0.9254, Validation Accuracy: 0.9308, Loss: 0.0794\n",
      "Epoch   3 Batch  150/538 - Train Accuracy: 0.9578, Validation Accuracy: 0.9416, Loss: 0.0595\n",
      "Epoch   3 Batch  160/538 - Train Accuracy: 0.9288, Validation Accuracy: 0.9281, Loss: 0.0574\n",
      "Epoch   3 Batch  170/538 - Train Accuracy: 0.9375, Validation Accuracy: 0.9228, Loss: 0.0662\n",
      "Epoch   3 Batch  180/538 - Train Accuracy: 0.9464, Validation Accuracy: 0.9274, Loss: 0.0636\n",
      "Epoch   3 Batch  190/538 - Train Accuracy: 0.9301, Validation Accuracy: 0.9423, Loss: 0.0800\n"
     ]
    },
    {
     "name": "stdout",
     "output_type": "stream",
     "text": [
      "Epoch   3 Batch  200/538 - Train Accuracy: 0.9537, Validation Accuracy: 0.9251, Loss: 0.0546\n",
      "Epoch   3 Batch  210/538 - Train Accuracy: 0.9260, Validation Accuracy: 0.9316, Loss: 0.0621\n",
      "Epoch   3 Batch  220/538 - Train Accuracy: 0.9334, Validation Accuracy: 0.9370, Loss: 0.0660\n",
      "Epoch   3 Batch  230/538 - Train Accuracy: 0.9369, Validation Accuracy: 0.9403, Loss: 0.0566\n",
      "Epoch   3 Batch  240/538 - Train Accuracy: 0.9484, Validation Accuracy: 0.9531, Loss: 0.0645\n",
      "Epoch   3 Batch  250/538 - Train Accuracy: 0.9465, Validation Accuracy: 0.9339, Loss: 0.0549\n",
      "Epoch   3 Batch  260/538 - Train Accuracy: 0.9105, Validation Accuracy: 0.9341, Loss: 0.0612\n",
      "Epoch   3 Batch  270/538 - Train Accuracy: 0.9332, Validation Accuracy: 0.9299, Loss: 0.0550\n",
      "Epoch   3 Batch  280/538 - Train Accuracy: 0.9459, Validation Accuracy: 0.9368, Loss: 0.0554\n",
      "Epoch   3 Batch  290/538 - Train Accuracy: 0.9607, Validation Accuracy: 0.9391, Loss: 0.0447\n",
      "Epoch   3 Batch  300/538 - Train Accuracy: 0.9503, Validation Accuracy: 0.9279, Loss: 0.0592\n",
      "Epoch   3 Batch  310/538 - Train Accuracy: 0.9607, Validation Accuracy: 0.9398, Loss: 0.0620\n",
      "Epoch   3 Batch  320/538 - Train Accuracy: 0.9485, Validation Accuracy: 0.9455, Loss: 0.0524\n",
      "Epoch   3 Batch  330/538 - Train Accuracy: 0.9615, Validation Accuracy: 0.9469, Loss: 0.0514\n",
      "Epoch   3 Batch  340/538 - Train Accuracy: 0.9326, Validation Accuracy: 0.9391, Loss: 0.0582\n",
      "Epoch   3 Batch  350/538 - Train Accuracy: 0.9453, Validation Accuracy: 0.9343, Loss: 0.0623\n",
      "Epoch   3 Batch  360/538 - Train Accuracy: 0.9607, Validation Accuracy: 0.9386, Loss: 0.0560\n",
      "Epoch   3 Batch  370/538 - Train Accuracy: 0.9496, Validation Accuracy: 0.9370, Loss: 0.0516\n",
      "Epoch   3 Batch  380/538 - Train Accuracy: 0.9586, Validation Accuracy: 0.9281, Loss: 0.0495\n",
      "Epoch   3 Batch  390/538 - Train Accuracy: 0.9580, Validation Accuracy: 0.9515, Loss: 0.0477\n",
      "Epoch   3 Batch  400/538 - Train Accuracy: 0.9548, Validation Accuracy: 0.9386, Loss: 0.0576\n",
      "Epoch   3 Batch  410/538 - Train Accuracy: 0.9645, Validation Accuracy: 0.9384, Loss: 0.0533\n",
      "Epoch   3 Batch  420/538 - Train Accuracy: 0.9531, Validation Accuracy: 0.9418, Loss: 0.0516\n",
      "Epoch   3 Batch  430/538 - Train Accuracy: 0.9387, Validation Accuracy: 0.9506, Loss: 0.0506\n",
      "Epoch   3 Batch  440/538 - Train Accuracy: 0.9463, Validation Accuracy: 0.9499, Loss: 0.0568\n",
      "Epoch   3 Batch  450/538 - Train Accuracy: 0.9275, Validation Accuracy: 0.9537, Loss: 0.0649\n",
      "Epoch   3 Batch  460/538 - Train Accuracy: 0.9483, Validation Accuracy: 0.9423, Loss: 0.0598\n",
      "Epoch   3 Batch  470/538 - Train Accuracy: 0.9596, Validation Accuracy: 0.9458, Loss: 0.0512\n",
      "Epoch   3 Batch  480/538 - Train Accuracy: 0.9559, Validation Accuracy: 0.9476, Loss: 0.0481\n",
      "Epoch   3 Batch  490/538 - Train Accuracy: 0.9518, Validation Accuracy: 0.9522, Loss: 0.0479\n",
      "Epoch   3 Batch  500/538 - Train Accuracy: 0.9608, Validation Accuracy: 0.9469, Loss: 0.0392\n",
      "Epoch   3 Batch  510/538 - Train Accuracy: 0.9552, Validation Accuracy: 0.9458, Loss: 0.0501\n",
      "Epoch   3 Batch  520/538 - Train Accuracy: 0.9506, Validation Accuracy: 0.9435, Loss: 0.0526\n",
      "Epoch   3 Batch  530/538 - Train Accuracy: 0.9420, Validation Accuracy: 0.9485, Loss: 0.0534\n",
      "Epoch   4 Batch   10/538 - Train Accuracy: 0.9437, Validation Accuracy: 0.9544, Loss: 0.0496\n",
      "Epoch   4 Batch   20/538 - Train Accuracy: 0.9518, Validation Accuracy: 0.9506, Loss: 0.0568\n",
      "Epoch   4 Batch   30/538 - Train Accuracy: 0.9518, Validation Accuracy: 0.9380, Loss: 0.0521\n",
      "Epoch   4 Batch   40/538 - Train Accuracy: 0.9524, Validation Accuracy: 0.9505, Loss: 0.0411\n",
      "Epoch   4 Batch   50/538 - Train Accuracy: 0.9500, Validation Accuracy: 0.9521, Loss: 0.0453\n",
      "Epoch   4 Batch   60/538 - Train Accuracy: 0.9541, Validation Accuracy: 0.9462, Loss: 0.0425\n",
      "Epoch   4 Batch   70/538 - Train Accuracy: 0.9403, Validation Accuracy: 0.9426, Loss: 0.0400\n",
      "Epoch   4 Batch   80/538 - Train Accuracy: 0.9514, Validation Accuracy: 0.9466, Loss: 0.0484\n",
      "Epoch   4 Batch   90/538 - Train Accuracy: 0.9591, Validation Accuracy: 0.9421, Loss: 0.0530\n",
      "Epoch   4 Batch  100/538 - Train Accuracy: 0.9646, Validation Accuracy: 0.9473, Loss: 0.0394\n",
      "Epoch   4 Batch  110/538 - Train Accuracy: 0.9664, Validation Accuracy: 0.9426, Loss: 0.0459\n",
      "Epoch   4 Batch  120/538 - Train Accuracy: 0.9625, Validation Accuracy: 0.9668, Loss: 0.0356\n",
      "Epoch   4 Batch  130/538 - Train Accuracy: 0.9593, Validation Accuracy: 0.9460, Loss: 0.0435\n",
      "Epoch   4 Batch  140/538 - Train Accuracy: 0.9590, Validation Accuracy: 0.9450, Loss: 0.0569\n",
      "Epoch   4 Batch  150/538 - Train Accuracy: 0.9641, Validation Accuracy: 0.9494, Loss: 0.0429\n",
      "Epoch   4 Batch  160/538 - Train Accuracy: 0.9433, Validation Accuracy: 0.9487, Loss: 0.0485\n",
      "Epoch   4 Batch  170/538 - Train Accuracy: 0.9544, Validation Accuracy: 0.9466, Loss: 0.0478\n",
      "Epoch   4 Batch  180/538 - Train Accuracy: 0.9524, Validation Accuracy: 0.9437, Loss: 0.0432\n",
      "Epoch   4 Batch  190/538 - Train Accuracy: 0.9353, Validation Accuracy: 0.9558, Loss: 0.0609\n",
      "Epoch   4 Batch  200/538 - Train Accuracy: 0.9607, Validation Accuracy: 0.9428, Loss: 0.0331\n",
      "Epoch   4 Batch  210/538 - Train Accuracy: 0.9464, Validation Accuracy: 0.9485, Loss: 0.0542\n",
      "Epoch   4 Batch  220/538 - Train Accuracy: 0.9407, Validation Accuracy: 0.9467, Loss: 0.0517\n",
      "Epoch   4 Batch  230/538 - Train Accuracy: 0.9609, Validation Accuracy: 0.9496, Loss: 0.0486\n",
      "Epoch   4 Batch  240/538 - Train Accuracy: 0.9543, Validation Accuracy: 0.9572, Loss: 0.0430\n",
      "Epoch   4 Batch  250/538 - Train Accuracy: 0.9615, Validation Accuracy: 0.9498, Loss: 0.0410\n",
      "Epoch   4 Batch  260/538 - Train Accuracy: 0.9282, Validation Accuracy: 0.9435, Loss: 0.0509\n",
      "Epoch   4 Batch  270/538 - Train Accuracy: 0.9721, Validation Accuracy: 0.9574, Loss: 0.0378\n",
      "Epoch   4 Batch  280/538 - Train Accuracy: 0.9522, Validation Accuracy: 0.9545, Loss: 0.0337\n",
      "Epoch   4 Batch  290/538 - Train Accuracy: 0.9703, Validation Accuracy: 0.9542, Loss: 0.0368\n",
      "Epoch   4 Batch  300/538 - Train Accuracy: 0.9661, Validation Accuracy: 0.9405, Loss: 0.0455\n",
      "Epoch   4 Batch  310/538 - Train Accuracy: 0.9590, Validation Accuracy: 0.9441, Loss: 0.0533\n",
      "Epoch   4 Batch  320/538 - Train Accuracy: 0.9555, Validation Accuracy: 0.9533, Loss: 0.0413\n",
      "Epoch   4 Batch  330/538 - Train Accuracy: 0.9580, Validation Accuracy: 0.9592, Loss: 0.0402\n",
      "Epoch   4 Batch  340/538 - Train Accuracy: 0.9520, Validation Accuracy: 0.9460, Loss: 0.0421\n",
      "Epoch   4 Batch  350/538 - Train Accuracy: 0.9641, Validation Accuracy: 0.9560, Loss: 0.0405\n",
      "Epoch   4 Batch  360/538 - Train Accuracy: 0.9572, Validation Accuracy: 0.9714, Loss: 0.0364\n",
      "Epoch   4 Batch  370/538 - Train Accuracy: 0.9643, Validation Accuracy: 0.9563, Loss: 0.0401\n",
      "Epoch   4 Batch  380/538 - Train Accuracy: 0.9527, Validation Accuracy: 0.9640, Loss: 0.0375\n",
      "Epoch   4 Batch  390/538 - Train Accuracy: 0.9559, Validation Accuracy: 0.9524, Loss: 0.0393\n",
      "Epoch   4 Batch  400/538 - Train Accuracy: 0.9626, Validation Accuracy: 0.9625, Loss: 0.0405\n",
      "Epoch   4 Batch  410/538 - Train Accuracy: 0.9725, Validation Accuracy: 0.9517, Loss: 0.0346\n",
      "Epoch   4 Batch  420/538 - Train Accuracy: 0.9600, Validation Accuracy: 0.9450, Loss: 0.0374\n",
      "Epoch   4 Batch  430/538 - Train Accuracy: 0.9471, Validation Accuracy: 0.9579, Loss: 0.0386\n",
      "Epoch   4 Batch  440/538 - Train Accuracy: 0.9678, Validation Accuracy: 0.9556, Loss: 0.0473\n",
      "Epoch   4 Batch  450/538 - Train Accuracy: 0.9394, Validation Accuracy: 0.9597, Loss: 0.0519\n",
      "Epoch   4 Batch  460/538 - Train Accuracy: 0.9535, Validation Accuracy: 0.9551, Loss: 0.0394\n",
      "Epoch   4 Batch  470/538 - Train Accuracy: 0.9693, Validation Accuracy: 0.9490, Loss: 0.0357\n",
      "Epoch   4 Batch  480/538 - Train Accuracy: 0.9648, Validation Accuracy: 0.9466, Loss: 0.0431\n",
      "Epoch   4 Batch  490/538 - Train Accuracy: 0.9594, Validation Accuracy: 0.9489, Loss: 0.0381\n",
      "Epoch   4 Batch  500/538 - Train Accuracy: 0.9810, Validation Accuracy: 0.9478, Loss: 0.0275\n",
      "Epoch   4 Batch  510/538 - Train Accuracy: 0.9567, Validation Accuracy: 0.9451, Loss: 0.0351\n",
      "Epoch   4 Batch  520/538 - Train Accuracy: 0.9607, Validation Accuracy: 0.9569, Loss: 0.0441\n",
      "Epoch   4 Batch  530/538 - Train Accuracy: 0.9592, Validation Accuracy: 0.9529, Loss: 0.0380\n",
      "Model Trained and Saved\n"
     ]
    }
   ],
   "source": [
    "\"\"\"\n",
    "DON'T MODIFY ANYTHING IN THIS CELL\n",
    "\"\"\"\n",
    "def get_accuracy(target, logits):\n",
    "    \"\"\"\n",
    "    Calculate accuracy\n",
    "    \"\"\"\n",
    "    max_seq = max(target.shape[1], logits.shape[1])\n",
    "    if max_seq - target.shape[1]:\n",
    "        target = np.pad(\n",
    "            target,\n",
    "            [(0,0),(0,max_seq - target.shape[1])],\n",
    "            'constant')\n",
    "    if max_seq - logits.shape[1]:\n",
    "        logits = np.pad(\n",
    "            logits,\n",
    "            [(0,0),(0,max_seq - logits.shape[1])],\n",
    "            'constant')\n",
    "\n",
    "    return np.mean(np.equal(target, logits))\n",
    "\n",
    "# Split data to training and validation sets\n",
    "train_source = source_int_text[batch_size:]\n",
    "train_target = target_int_text[batch_size:]\n",
    "valid_source = source_int_text[:batch_size]\n",
    "valid_target = target_int_text[:batch_size]\n",
    "(valid_sources_batch, valid_targets_batch, valid_sources_lengths, valid_targets_lengths ) = next(get_batches(valid_source,\n",
    "                                                                                                             valid_target,\n",
    "                                                                                                             batch_size,\n",
    "                                                                                                             source_vocab_to_int['<PAD>'],\n",
    "                                                                                                             target_vocab_to_int['<PAD>']))                                                                                                  \n",
    "with tf.Session(graph=train_graph) as sess:\n",
    "    sess.run(tf.global_variables_initializer())\n",
    "\n",
    "    for epoch_i in range(epochs):\n",
    "        for batch_i, (source_batch, target_batch, sources_lengths, targets_lengths) in enumerate(\n",
    "                get_batches(train_source, train_target, batch_size,\n",
    "                            source_vocab_to_int['<PAD>'],\n",
    "                            target_vocab_to_int['<PAD>'])):\n",
    "\n",
    "            _, loss = sess.run(\n",
    "                [train_op, cost],\n",
    "                {input_data: source_batch,\n",
    "                 targets: target_batch,\n",
    "                 lr: learning_rate,\n",
    "                 target_sequence_length: targets_lengths,\n",
    "                 source_sequence_length: sources_lengths,\n",
    "                 keep_prob: keep_probability})\n",
    "\n",
    "\n",
    "            if batch_i % display_step == 0 and batch_i > 0:\n",
    "\n",
    "\n",
    "                batch_train_logits = sess.run(\n",
    "                    inference_logits,\n",
    "                    {input_data: source_batch,\n",
    "                     source_sequence_length: sources_lengths,\n",
    "                     target_sequence_length: targets_lengths,\n",
    "                     keep_prob: 1.0})\n",
    "\n",
    "\n",
    "                batch_valid_logits = sess.run(\n",
    "                    inference_logits,\n",
    "                    {input_data: valid_sources_batch,\n",
    "                     source_sequence_length: valid_sources_lengths,\n",
    "                     target_sequence_length: valid_targets_lengths,\n",
    "                     keep_prob: 1.0})\n",
    "\n",
    "                train_acc = get_accuracy(target_batch, batch_train_logits)\n",
    "\n",
    "                valid_acc = get_accuracy(valid_targets_batch, batch_valid_logits)\n",
    "\n",
    "                print('Epoch {:>3} Batch {:>4}/{} - Train Accuracy: {:>6.4f}, Validation Accuracy: {:>6.4f}, Loss: {:>6.4f}'\n",
    "                      .format(epoch_i, batch_i, len(source_int_text) // batch_size, train_acc, valid_acc, loss))\n",
    "\n",
    "    # Save Model\n",
    "    saver = tf.train.Saver()\n",
    "    saver.save(sess, save_path)\n",
    "    print('Model Trained and Saved')"
   ]
  },
  {
   "cell_type": "markdown",
   "metadata": {},
   "source": [
    "### Save Parameters\n",
    "Save the `batch_size` and `save_path` parameters for inference."
   ]
  },
  {
   "cell_type": "code",
   "execution_count": 28,
   "metadata": {
    "collapsed": true
   },
   "outputs": [],
   "source": [
    "\"\"\"\n",
    "DON'T MODIFY ANYTHING IN THIS CELL\n",
    "\"\"\"\n",
    "# Save parameters for checkpoint\n",
    "helper.save_params(save_path)"
   ]
  },
  {
   "cell_type": "markdown",
   "metadata": {},
   "source": [
    "# Checkpoint"
   ]
  },
  {
   "cell_type": "code",
   "execution_count": 29,
   "metadata": {
    "collapsed": true
   },
   "outputs": [],
   "source": [
    "\"\"\"\n",
    "DON'T MODIFY ANYTHING IN THIS CELL\n",
    "\"\"\"\n",
    "import tensorflow as tf\n",
    "import numpy as np\n",
    "import helper\n",
    "import problem_unittests as tests\n",
    "\n",
    "_, (source_vocab_to_int, target_vocab_to_int), (source_int_to_vocab, target_int_to_vocab) = helper.load_preprocess()\n",
    "load_path = helper.load_params()"
   ]
  },
  {
   "cell_type": "markdown",
   "metadata": {},
   "source": [
    "## Sentence to Sequence\n",
    "To feed a sentence into the model for translation, you first need to preprocess it.  Implement the function `sentence_to_seq()` to preprocess new sentences.\n",
    "\n",
    "- Convert the sentence to lowercase\n",
    "- Convert words into ids using `vocab_to_int`\n",
    " - Convert words not in the vocabulary, to the `<UNK>` word id."
   ]
  },
  {
   "cell_type": "code",
   "execution_count": 31,
   "metadata": {},
   "outputs": [
    {
     "name": "stdout",
     "output_type": "stream",
     "text": [
      "Tests Passed\n"
     ]
    }
   ],
   "source": [
    "def sentence_to_seq(sentence, vocab_to_int):\n",
    "    \"\"\"\n",
    "    Convert a sentence to a sequence of ids\n",
    "    :param sentence: String\n",
    "    :param vocab_to_int: Dictionary to go from the words to an id\n",
    "    :return: List of word ids\n",
    "    \"\"\"\n",
    "    # TODO: Implement Function\n",
    "    sentence = sentence.lower()\n",
    "   \n",
    "    seq = [vocab_to_int.get(word, vocab_to_int['<UNK>']) for word in sentence.split(\" \")]\n",
    "    \n",
    "    return seq\n",
    "\n",
    "\n",
    "\"\"\"\n",
    "DON'T MODIFY ANYTHING IN THIS CELL THAT IS BELOW THIS LINE\n",
    "\"\"\"\n",
    "tests.test_sentence_to_seq(sentence_to_seq)"
   ]
  },
  {
   "cell_type": "markdown",
   "metadata": {},
   "source": [
    "## Translate\n",
    "This will translate `translate_sentence` from English to French."
   ]
  },
  {
   "cell_type": "code",
   "execution_count": 32,
   "metadata": {},
   "outputs": [
    {
     "name": "stdout",
     "output_type": "stream",
     "text": [
      "INFO:tensorflow:Restoring parameters from checkpoints/dev\n",
      "Input\n",
      "  Word Ids:      [90, 169, 223, 18, 202, 133, 194]\n",
      "  English Words: ['he', 'saw', 'a', 'old', 'yellow', 'truck', '.']\n",
      "\n",
      "Prediction\n",
      "  Word Ids:      [184, 266, 92, 284, 251, 74, 113, 349, 1]\n",
      "  French Words: il a vu un vieux camion jaune . <EOS>\n"
     ]
    }
   ],
   "source": [
    "translate_sentence = 'he saw a old yellow truck .'\n",
    "\n",
    "\n",
    "\"\"\"\n",
    "DON'T MODIFY ANYTHING IN THIS CELL\n",
    "\"\"\"\n",
    "translate_sentence = sentence_to_seq(translate_sentence, source_vocab_to_int)\n",
    "\n",
    "loaded_graph = tf.Graph()\n",
    "with tf.Session(graph=loaded_graph) as sess:\n",
    "    # Load saved model\n",
    "    loader = tf.train.import_meta_graph(load_path + '.meta')\n",
    "    loader.restore(sess, load_path)\n",
    "\n",
    "    input_data = loaded_graph.get_tensor_by_name('input:0')\n",
    "    logits = loaded_graph.get_tensor_by_name('predictions:0')\n",
    "    target_sequence_length = loaded_graph.get_tensor_by_name('target_sequence_length:0')\n",
    "    source_sequence_length = loaded_graph.get_tensor_by_name('source_sequence_length:0')\n",
    "    keep_prob = loaded_graph.get_tensor_by_name('keep_prob:0')\n",
    "\n",
    "    translate_logits = sess.run(logits, {input_data: [translate_sentence]*batch_size,\n",
    "                                         target_sequence_length: [len(translate_sentence)*2]*batch_size,\n",
    "                                         source_sequence_length: [len(translate_sentence)]*batch_size,\n",
    "                                         keep_prob: 1.0})[0]\n",
    "\n",
    "print('Input')\n",
    "print('  Word Ids:      {}'.format([i for i in translate_sentence]))\n",
    "print('  English Words: {}'.format([source_int_to_vocab[i] for i in translate_sentence]))\n",
    "\n",
    "print('\\nPrediction')\n",
    "print('  Word Ids:      {}'.format([i for i in translate_logits]))\n",
    "print('  French Words: {}'.format(\" \".join([target_int_to_vocab[i] for i in translate_logits])))\n"
   ]
  },
  {
   "cell_type": "markdown",
   "metadata": {},
   "source": [
    "## Imperfect Translation\n",
    "You might notice that some sentences translate better than others.  Since the dataset you're using only has a vocabulary of 227 English words of the thousands that you use, you're only going to see good results using these words.  For this project, you don't need a perfect translation. However, if you want to create a better translation model, you'll need better data.\n",
    "\n",
    "You can train on the [WMT10 French-English corpus](http://www.statmt.org/wmt10/training-giga-fren.tar).  This dataset has more vocabulary and richer in topics discussed.  However, this will take you days to train, so make sure you've a GPU and the neural network is performing well on dataset we provided.  Just make sure you play with the WMT10 corpus after you've submitted this project.\n",
    "## Submitting This Project\n",
    "When submitting this project, make sure to run all the cells before saving the notebook. Save the notebook file as \"dlnd_language_translation.ipynb\" and save it as a HTML file under \"File\" -> \"Download as\". Include the \"helper.py\" and \"problem_unittests.py\" files in your submission."
   ]
  }
 ],
 "metadata": {
  "anaconda-cloud": {},
  "kernelspec": {
   "display_name": "Python 3",
   "language": "python",
   "name": "python3"
  },
  "language_info": {
   "codemirror_mode": {
    "name": "ipython",
    "version": 3
   },
   "file_extension": ".py",
   "mimetype": "text/x-python",
   "name": "python",
   "nbconvert_exporter": "python",
   "pygments_lexer": "ipython3",
   "version": "3.6.1"
  }
 },
 "nbformat": 4,
 "nbformat_minor": 1
}
